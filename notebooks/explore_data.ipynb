{
 "cells": [
  {
   "cell_type": "markdown",
   "metadata": {},
   "source": [
    "# Exploración de Datos - Small Caps Trading System\n",
    "\n",
    "Notebook para explorar los datos descargados de Polygon.io:\n",
    "- Daily bars (1d)\n",
    "- Hourly bars (1h)\n",
    "- Tickers universe\n",
    "- Corporate actions (splits, dividends)"
   ]
  },
  {
   "cell_type": "code",
   "execution_count": 3,
   "metadata": {},
   "outputs": [
    {
     "data": {
      "text/plain": [
       "'D:\\\\04_TRADING_SMALLCAPS\\\\notebooks'"
      ]
     },
     "execution_count": 3,
     "metadata": {},
     "output_type": "execute_result"
    }
   ],
   "source": [
    "pwd"
   ]
  },
  {
   "cell_type": "code",
   "execution_count": 24,
   "metadata": {},
   "outputs": [],
   "source": [
    "import polars as pl\n",
    "from pathlib import Path\n",
    "import plotly.express as px\n",
    "import plotly.graph_objects as go\n",
    "from datetime import datetime, timedelta"
   ]
  },
  {
   "cell_type": "code",
   "execution_count": 25,
   "metadata": {},
   "outputs": [],
   "source": [
    "# Paths\n",
    "base = Path(\"..\")\n",
    "raw = base / \"raw\"\n",
    "tickers_dir = raw / \"reference\"  # ← IMPORTANTE: reference, no tickers"
   ]
  },
  {
   "cell_type": "code",
   "execution_count": 26,
   "metadata": {},
   "outputs": [
    {
     "name": "stdout",
     "output_type": "stream",
     "text": [
      "Archivos encontrados: 4\n",
      "Tickers totales: 22,489\n"
     ]
    }
   ],
   "source": [
    "# Cargar tickers\n",
    "ticker_files = sorted(tickers_dir.glob(\"tickers_*.parquet\"))\n",
    "print(f\"Archivos encontrados: {len(ticker_files)}\")\n",
    "if ticker_files:\n",
    "    df_tickers = pl.read_parquet(ticker_files[-1])\n",
    "    print(f\"Tickers totales: {len(df_tickers):,}\")"
   ]
  },
  {
   "cell_type": "code",
   "execution_count": 48,
   "metadata": {},
   "outputs": [
    {
     "data": {
      "text/html": [
       "<div><style>\n",
       ".dataframe > thead > tr,\n",
       ".dataframe > tbody > tr {\n",
       "  text-align: right;\n",
       "  white-space: pre-wrap;\n",
       "}\n",
       "</style>\n",
       "<small>shape: (5, 13)</small><table border=\"1\" class=\"dataframe\"><thead><tr><th>ticker</th><th>name</th><th>market</th><th>locale</th><th>primary_exchange</th><th>type</th><th>active</th><th>currency_name</th><th>cik</th><th>composite_figi</th><th>share_class_figi</th><th>last_updated_utc</th><th>delisted_utc</th></tr><tr><td>str</td><td>str</td><td>str</td><td>str</td><td>str</td><td>str</td><td>bool</td><td>str</td><td>str</td><td>str</td><td>str</td><td>str</td><td>str</td></tr></thead><tbody><tr><td>&quot;AAAP&quot;</td><td>&quot;Advanced Accelerator Applicati…</td><td>&quot;stocks&quot;</td><td>&quot;us&quot;</td><td>&quot;XNAS&quot;</td><td>&quot;ADRC&quot;</td><td>false</td><td>&quot;usd&quot;</td><td>&quot;0001611787&quot;</td><td>&quot;BBG00K6FMBQ8&quot;</td><td>&quot;BBG007K5CVB6&quot;</td><td>&quot;2024-12-03T20:51:58.376135Z&quot;</td><td>&quot;2018-02-12T05:00:00Z&quot;</td></tr><tr><td>&quot;AAB.WS&quot;</td><td>&quot;LEHMAN BROTHERS CURRENCY BASKE…</td><td>&quot;stocks&quot;</td><td>&quot;us&quot;</td><td>&quot;XASE&quot;</td><td>null</td><td>false</td><td>&quot;usd&quot;</td><td>null</td><td>null</td><td>null</td><td>&quot;2025-01-16T17:32:57.087334Z&quot;</td><td>&quot;2008-02-11T05:00:00Z&quot;</td></tr><tr><td>&quot;AABA&quot;</td><td>&quot;Altaba Inc. Common Stock&quot;</td><td>&quot;stocks&quot;</td><td>&quot;us&quot;</td><td>&quot;XNAS&quot;</td><td>&quot;CS&quot;</td><td>false</td><td>&quot;usd&quot;</td><td>&quot;0001011006&quot;</td><td>&quot;BBG000KB2D74&quot;</td><td>&quot;BBG001S8V781&quot;</td><td>&quot;2024-12-03T21:33:22.821052Z&quot;</td><td>&quot;2019-10-07T04:00:00Z&quot;</td></tr><tr><td>&quot;AABC&quot;</td><td>&quot;ACCESS ANYTIME BANCORP INC&quot;</td><td>&quot;stocks&quot;</td><td>&quot;us&quot;</td><td>null</td><td>null</td><td>false</td><td>&quot;usd&quot;</td><td>&quot;0001024015&quot;</td><td>null</td><td>null</td><td>&quot;2025-08-12T16:27:08.260299Z&quot;</td><td>&quot;2006-01-04T05:00:00Z&quot;</td></tr><tr><td>&quot;AAC&quot;</td><td>&quot;Ares Acquisition Corporation&quot;</td><td>&quot;stocks&quot;</td><td>&quot;us&quot;</td><td>&quot;XNYS&quot;</td><td>&quot;CS&quot;</td><td>false</td><td>&quot;usd&quot;</td><td>&quot;0001829432&quot;</td><td>null</td><td>null</td><td>&quot;2025-08-13T14:20:43.779961Z&quot;</td><td>&quot;2023-11-07T05:00:00Z&quot;</td></tr></tbody></table></div>"
      ],
      "text/plain": [
       "shape: (5, 13)\n",
       "┌────────┬─────────────┬────────┬────────┬───┬─────────────┬─────────────┬────────────┬────────────┐\n",
       "│ ticker ┆ name        ┆ market ┆ locale ┆ … ┆ composite_f ┆ share_class ┆ last_updat ┆ delisted_u │\n",
       "│ ---    ┆ ---         ┆ ---    ┆ ---    ┆   ┆ igi         ┆ _figi       ┆ ed_utc     ┆ tc         │\n",
       "│ str    ┆ str         ┆ str    ┆ str    ┆   ┆ ---         ┆ ---         ┆ ---        ┆ ---        │\n",
       "│        ┆             ┆        ┆        ┆   ┆ str         ┆ str         ┆ str        ┆ str        │\n",
       "╞════════╪═════════════╪════════╪════════╪═══╪═════════════╪═════════════╪════════════╪════════════╡\n",
       "│ AAAP   ┆ Advanced    ┆ stocks ┆ us     ┆ … ┆ BBG00K6FMBQ ┆ BBG007K5CVB ┆ 2024-12-03 ┆ 2018-02-12 │\n",
       "│        ┆ Accelerator ┆        ┆        ┆   ┆ 8           ┆ 6           ┆ T20:51:58. ┆ T05:00:00Z │\n",
       "│        ┆ Applicati…  ┆        ┆        ┆   ┆             ┆             ┆ 376135Z    ┆            │\n",
       "│ AAB.WS ┆ LEHMAN      ┆ stocks ┆ us     ┆ … ┆ null        ┆ null        ┆ 2025-01-16 ┆ 2008-02-11 │\n",
       "│        ┆ BROTHERS    ┆        ┆        ┆   ┆             ┆             ┆ T17:32:57. ┆ T05:00:00Z │\n",
       "│        ┆ CURRENCY    ┆        ┆        ┆   ┆             ┆             ┆ 087334Z    ┆            │\n",
       "│        ┆ BASKE…      ┆        ┆        ┆   ┆             ┆             ┆            ┆            │\n",
       "│ AABA   ┆ Altaba Inc. ┆ stocks ┆ us     ┆ … ┆ BBG000KB2D7 ┆ BBG001S8V78 ┆ 2024-12-03 ┆ 2019-10-07 │\n",
       "│        ┆ Common      ┆        ┆        ┆   ┆ 4           ┆ 1           ┆ T21:33:22. ┆ T04:00:00Z │\n",
       "│        ┆ Stock       ┆        ┆        ┆   ┆             ┆             ┆ 821052Z    ┆            │\n",
       "│ AABC   ┆ ACCESS      ┆ stocks ┆ us     ┆ … ┆ null        ┆ null        ┆ 2025-08-12 ┆ 2006-01-04 │\n",
       "│        ┆ ANYTIME     ┆        ┆        ┆   ┆             ┆             ┆ T16:27:08. ┆ T05:00:00Z │\n",
       "│        ┆ BANCORP INC ┆        ┆        ┆   ┆             ┆             ┆ 260299Z    ┆            │\n",
       "│ AAC    ┆ Ares        ┆ stocks ┆ us     ┆ … ┆ null        ┆ null        ┆ 2025-08-13 ┆ 2023-11-07 │\n",
       "│        ┆ Acquisition ┆        ┆        ┆   ┆             ┆             ┆ T14:20:43. ┆ T05:00:00Z │\n",
       "│        ┆ Corporation ┆        ┆        ┆   ┆             ┆             ┆ 779961Z    ┆            │\n",
       "└────────┴─────────────┴────────┴────────┴───┴─────────────┴─────────────┴────────────┴────────────┘"
      ]
     },
     "execution_count": 48,
     "metadata": {},
     "output_type": "execute_result"
    }
   ],
   "source": [
    "df_tickers.head()"
   ]
  },
  {
   "cell_type": "code",
   "execution_count": 49,
   "metadata": {},
   "outputs": [
    {
     "data": {
      "text/plain": [
       "['ticker',\n",
       " 'name',\n",
       " 'market',\n",
       " 'locale',\n",
       " 'primary_exchange',\n",
       " 'type',\n",
       " 'active',\n",
       " 'currency_name',\n",
       " 'cik',\n",
       " 'composite_figi',\n",
       " 'share_class_figi',\n",
       " 'last_updated_utc',\n",
       " 'delisted_utc']"
      ]
     },
     "execution_count": 49,
     "metadata": {},
     "output_type": "execute_result"
    }
   ],
   "source": [
    "df_tickers.columns"
   ]
  },
  {
   "cell_type": "code",
   "execution_count": 44,
   "metadata": {},
   "outputs": [
    {
     "data": {
      "text/html": [
       "<div><style>\n",
       ".dataframe > thead > tr,\n",
       ".dataframe > tbody > tr {\n",
       "  text-align: right;\n",
       "  white-space: pre-wrap;\n",
       "}\n",
       "</style>\n",
       "<small>shape: (5, 2)</small><table border=\"1\" class=\"dataframe\"><thead><tr><th>type</th><th>count</th></tr><tr><td>str</td><td>u32</td></tr></thead><tbody><tr><td>null</td><td>6832</td></tr><tr><td>&quot;CS&quot;</td><td>6225</td></tr><tr><td>&quot;SP&quot;</td><td>2005</td></tr><tr><td>&quot;PFD&quot;</td><td>1765</td></tr><tr><td>&quot;WARRANT&quot;</td><td>1719</td></tr></tbody></table></div>"
      ],
      "text/plain": [
       "shape: (5, 2)\n",
       "┌─────────┬───────┐\n",
       "│ type    ┆ count │\n",
       "│ ---     ┆ ---   │\n",
       "│ str     ┆ u32   │\n",
       "╞═════════╪═══════╡\n",
       "│ null    ┆ 6832  │\n",
       "│ CS      ┆ 6225  │\n",
       "│ SP      ┆ 2005  │\n",
       "│ PFD     ┆ 1765  │\n",
       "│ WARRANT ┆ 1719  │\n",
       "└─────────┴───────┘"
      ]
     },
     "execution_count": 44,
     "metadata": {},
     "output_type": "execute_result"
    }
   ],
   "source": [
    "# Distribución por tipo\n",
    "if 'type' in df_tickers.columns:\n",
    "    type_counts = df_tickers.group_by(\"type\").agg(pl.len().alias(\"count\")).sort(\"count\", descending=True)\n",
    "type_counts.head()"
   ]
  },
  {
   "cell_type": "code",
   "execution_count": 51,
   "metadata": {},
   "outputs": [
    {
     "name": "stdout",
     "output_type": "stream",
     "text": [
      "Archivos daily bars: 3\n",
      "\n",
      "Ticker: AAPL\n",
      "Rows: 22\n",
      "Date range: 2025-09-08 04:00:00+00:00 -> 2025-10-07 04:00:00+00:00\n"
     ]
    }
   ],
   "source": [
    "# Celda - Cargar daily bars (AAPL):\n",
    "# Daily bars\n",
    "bars_1d = raw / \"market_data\" / \"bars\" / \"1d\"\n",
    "files_1d = sorted(bars_1d.glob(\"*.parquet\")) if bars_1d.exists() else []\n",
    "print(f\"Archivos daily bars: {len(files_1d)}\")\n",
    "\n",
    "# Cargar AAPL\n",
    "ticker = \"AAPL\"\n",
    "file_1d = bars_1d / f\"{ticker}.parquet\"\n",
    "\n",
    "if file_1d.exists():\n",
    "    df_1d = pl.read_parquet(file_1d)\n",
    "    print(f\"\\nTicker: {ticker}\")\n",
    "    print(f\"Rows: {len(df_1d):,}\")\n",
    "    print(f\"Date range: {df_1d['timestamp'].min()} -> {df_1d['timestamp'].max()}\")\n",
    "    df_1d.head(10)"
   ]
  },
  {
   "cell_type": "code",
   "execution_count": 52,
   "metadata": {},
   "outputs": [
    {
     "name": "stdout",
     "output_type": "stream",
     "text": [
      "Ticker: AAPL\n",
      "Rows: 356\n",
      "Date range: 2025-09-08 08:00:00+00:00 -> 2025-10-08 11:00:00+00:00\n"
     ]
    }
   ],
   "source": [
    "# Hourly bars\n",
    "bars_1h = raw / \"market_data\" / \"bars\" / \"1h\"\n",
    "file_1h = bars_1h / f\"{ticker}.parquet\"\n",
    "\n",
    "if file_1h.exists():\n",
    "    df_1h = pl.read_parquet(file_1h)\n",
    "    print(f\"Ticker: {ticker}\")\n",
    "    print(f\"Rows: {len(df_1h):,}\")\n",
    "    print(f\"Date range: {df_1h['timestamp'].min()} -> {df_1h['timestamp'].max()}\")\n",
    "    df_1h.head(10)"
   ]
  },
  {
   "cell_type": "code",
   "execution_count": 53,
   "metadata": {},
   "outputs": [
    {
     "name": "stdout",
     "output_type": "stream",
     "text": [
      "Daily bars (1d): 22 rows\n",
      "Hourly bars (1h): 356 rows\n",
      "Ratio: 16.2x más granular\n",
      "\n",
      "Tamaño 1d: 3.9 KB\n",
      "Tamaño 1h: 11.8 KB\n"
     ]
    }
   ],
   "source": [
    "# Comparación\n",
    "if file_1d.exists() and file_1h.exists():\n",
    "    print(f\"Daily bars (1d): {len(df_1d):,} rows\")\n",
    "    print(f\"Hourly bars (1h): {len(df_1h):,} rows\")\n",
    "    print(f\"Ratio: {len(df_1h) / len(df_1d):.1f}x más granular\")\n",
    "    \n",
    "    size_1d = file_1d.stat().st_size / 1024\n",
    "    size_1h = file_1h.stat().st_size / 1024\n",
    "    print(f\"\\nTamaño 1d: {size_1d:.1f} KB\")\n",
    "    print(f\"Tamaño 1h: {size_1h:.1f} KB\")"
   ]
  },
  {
   "cell_type": "markdown",
   "metadata": {},
   "source": [
    "## 1. Universo de Tickers"
   ]
  },
  {
   "cell_type": "code",
   "execution_count": 54,
   "metadata": {},
   "outputs": [
    {
     "name": "stdout",
     "output_type": "stream",
     "text": [
      "Tickers totales: 22,489\n",
      "Archivo: tickers_delisted_20251008.parquet\n",
      "\n",
      "Columnas: ['ticker', 'name', 'market', 'locale', 'primary_exchange', 'type', 'active', 'currency_name', 'cik', 'composite_figi', 'share_class_figi', 'last_updated_utc', 'delisted_utc']\n"
     ]
    }
   ],
   "source": [
    "# Cargar último archivo de tickers\n",
    "ticker_files = sorted(tickers_dir.glob(\"tickers_*.parquet\"))\n",
    "if ticker_files:\n",
    "    df_tickers = pl.read_parquet(ticker_files[-1])\n",
    "    print(f\"Tickers totales: {len(df_tickers):,}\")\n",
    "    print(f\"Archivo: {ticker_files[-1].name}\")\n",
    "    print(f\"\\nColumnas: {df_tickers.columns}\")\n",
    "    df_tickers.head(10)\n",
    "else:\n",
    "    print(\"No ticker files found\")"
   ]
  },
  {
   "cell_type": "code",
   "execution_count": 55,
   "metadata": {},
   "outputs": [
    {
     "name": "stdout",
     "output_type": "stream",
     "text": [
      "shape: (16, 2)\n",
      "┌─────────┬───────┐\n",
      "│ type    ┆ count │\n",
      "│ ---     ┆ ---   │\n",
      "│ str     ┆ u32   │\n",
      "╞═════════╪═══════╡\n",
      "│ null    ┆ 6832  │\n",
      "│ CS      ┆ 6225  │\n",
      "│ SP      ┆ 2005  │\n",
      "│ PFD     ┆ 1765  │\n",
      "│ WARRANT ┆ 1719  │\n",
      "│ …       ┆ …     │\n",
      "│ ETN     ┆ 203   │\n",
      "│ ADRP    ┆ 15    │\n",
      "│ ETS     ┆ 15    │\n",
      "│ ADRR    ┆ 5     │\n",
      "│ ETV     ┆ 5     │\n",
      "└─────────┴───────┘\n"
     ]
    },
    {
     "name": "stderr",
     "output_type": "stream",
     "text": [
      "C:\\Users\\AlexJ\\AppData\\Local\\Temp\\ipykernel_45540\\2487634203.py:3: DeprecationWarning: `pl.count()` is deprecated. Please use `pl.len()` instead.\n",
      "(Deprecated in version 0.20.5)\n",
      "  type_counts = df_tickers.group_by(\"type\").agg(pl.count().alias(\"count\")).sort(\"count\", descending=True)\n"
     ]
    },
    {
     "ename": "ModuleNotFoundError",
     "evalue": "No module named 'pandas'",
     "output_type": "error",
     "traceback": [
      "\u001b[31m---------------------------------------------------------------------------\u001b[39m",
      "\u001b[31mModuleNotFoundError\u001b[39m                       Traceback (most recent call last)",
      "\u001b[36mCell\u001b[39m\u001b[36m \u001b[39m\u001b[32mIn[55]\u001b[39m\u001b[32m, line 7\u001b[39m\n\u001b[32m      4\u001b[39m \u001b[38;5;28mprint\u001b[39m(type_counts)\n\u001b[32m      6\u001b[39m \u001b[38;5;66;03m# Gráfico\u001b[39;00m\n\u001b[32m----> \u001b[39m\u001b[32m7\u001b[39m fig = px.bar(\u001b[43mtype_counts\u001b[49m\u001b[43m.\u001b[49m\u001b[43mto_pandas\u001b[49m\u001b[43m(\u001b[49m\u001b[43m)\u001b[49m, x=\u001b[33m\"\u001b[39m\u001b[33mtype\u001b[39m\u001b[33m\"\u001b[39m, y=\u001b[33m\"\u001b[39m\u001b[33mcount\u001b[39m\u001b[33m\"\u001b[39m, \n\u001b[32m      8\u001b[39m              title=\u001b[33m\"\u001b[39m\u001b[33mDistribución de Tickers por Tipo\u001b[39m\u001b[33m\"\u001b[39m)\n\u001b[32m      9\u001b[39m fig.show()\n",
      "\u001b[36mFile \u001b[39m\u001b[32mD:\\04_TRADING_SMALLCAPS\\.venv-smallcap\\Lib\\site-packages\\polars\\dataframe\\frame.py:2561\u001b[39m, in \u001b[36mDataFrame.to_pandas\u001b[39m\u001b[34m(self, use_pyarrow_extension_array, **kwargs)\u001b[39m\n\u001b[32m   2556\u001b[39m \u001b[38;5;28;01mif\u001b[39;00m Object \u001b[38;5;129;01min\u001b[39;00m \u001b[38;5;28mself\u001b[39m.dtypes:\n\u001b[32m   2557\u001b[39m     \u001b[38;5;28;01mreturn\u001b[39;00m \u001b[38;5;28mself\u001b[39m._to_pandas_with_object_columns(\n\u001b[32m   2558\u001b[39m         use_pyarrow_extension_array=use_pyarrow_extension_array, **kwargs\n\u001b[32m   2559\u001b[39m     )\n\u001b[32m-> \u001b[39m\u001b[32m2561\u001b[39m \u001b[38;5;28;01mreturn\u001b[39;00m \u001b[38;5;28;43mself\u001b[39;49m\u001b[43m.\u001b[49m\u001b[43m_to_pandas_without_object_columns\u001b[49m\u001b[43m(\u001b[49m\n\u001b[32m   2562\u001b[39m \u001b[43m    \u001b[49m\u001b[38;5;28;43mself\u001b[39;49m\u001b[43m,\u001b[49m\u001b[43m \u001b[49m\u001b[43muse_pyarrow_extension_array\u001b[49m\u001b[43m=\u001b[49m\u001b[43muse_pyarrow_extension_array\u001b[49m\u001b[43m,\u001b[49m\u001b[43m \u001b[49m\u001b[43m*\u001b[49m\u001b[43m*\u001b[49m\u001b[43mkwargs\u001b[49m\n\u001b[32m   2563\u001b[39m \u001b[43m\u001b[49m\u001b[43m)\u001b[49m\n",
      "\u001b[36mFile \u001b[39m\u001b[32mD:\\04_TRADING_SMALLCAPS\\.venv-smallcap\\Lib\\site-packages\\polars\\dataframe\\frame.py:2623\u001b[39m, in \u001b[36mDataFrame._to_pandas_without_object_columns\u001b[39m\u001b[34m(self, df, use_pyarrow_extension_array, **kwargs)\u001b[39m\n\u001b[32m   2615\u001b[39m     \u001b[38;5;28;01mreturn\u001b[39;00m tbl.to_pandas(\n\u001b[32m   2616\u001b[39m         self_destruct=\u001b[38;5;28;01mTrue\u001b[39;00m,\n\u001b[32m   2617\u001b[39m         split_blocks=\u001b[38;5;28;01mTrue\u001b[39;00m,\n\u001b[32m   2618\u001b[39m         types_mapper=\u001b[38;5;28;01mlambda\u001b[39;00m pa_dtype: pd.ArrowDtype(pa_dtype),\n\u001b[32m   2619\u001b[39m         **kwargs,\n\u001b[32m   2620\u001b[39m     )\n\u001b[32m   2622\u001b[39m date_as_object = kwargs.pop(\u001b[33m\"\u001b[39m\u001b[33mdate_as_object\u001b[39m\u001b[33m\"\u001b[39m, \u001b[38;5;28;01mFalse\u001b[39;00m)\n\u001b[32m-> \u001b[39m\u001b[32m2623\u001b[39m \u001b[38;5;28;01mreturn\u001b[39;00m \u001b[43mtbl\u001b[49m\u001b[43m.\u001b[49m\u001b[43mto_pandas\u001b[49m\u001b[43m(\u001b[49m\u001b[43mdate_as_object\u001b[49m\u001b[43m=\u001b[49m\u001b[43mdate_as_object\u001b[49m\u001b[43m,\u001b[49m\u001b[43m \u001b[49m\u001b[43m*\u001b[49m\u001b[43m*\u001b[49m\u001b[43mkwargs\u001b[49m\u001b[43m)\u001b[49m\n",
      "\u001b[36mFile \u001b[39m\u001b[32mD:\\04_TRADING_SMALLCAPS\\.venv-smallcap\\Lib\\site-packages\\pyarrow\\array.pxi:1020\u001b[39m, in \u001b[36mpyarrow.lib._PandasConvertible.to_pandas\u001b[39m\u001b[34m()\u001b[39m\n",
      "\u001b[36mFile \u001b[39m\u001b[32mD:\\04_TRADING_SMALLCAPS\\.venv-smallcap\\Lib\\site-packages\\pyarrow\\table.pxi:5177\u001b[39m, in \u001b[36mpyarrow.lib.Table._to_pandas\u001b[39m\u001b[34m()\u001b[39m\n",
      "\u001b[36mFile \u001b[39m\u001b[32mD:\\04_TRADING_SMALLCAPS\\.venv-smallcap\\Lib\\site-packages\\pyarrow\\pandas_compat.py:797\u001b[39m, in \u001b[36mtable_to_dataframe\u001b[39m\u001b[34m(options, table, categories, ignore_metadata, types_mapper)\u001b[39m\n\u001b[32m    794\u001b[39m     ext_columns_dtypes = _get_extension_dtypes(\n\u001b[32m    795\u001b[39m         table, all_columns, types_mapper, options, categories)\n\u001b[32m    796\u001b[39m \u001b[38;5;28;01melse\u001b[39;00m:\n\u001b[32m--> \u001b[39m\u001b[32m797\u001b[39m     index = \u001b[43m_pandas_api\u001b[49m\u001b[43m.\u001b[49m\u001b[43mpd\u001b[49m.RangeIndex(table.num_rows)\n\u001b[32m    798\u001b[39m     ext_columns_dtypes = _get_extension_dtypes(\n\u001b[32m    799\u001b[39m         table, [], types_mapper, options, categories\n\u001b[32m    800\u001b[39m     )\n\u001b[32m    802\u001b[39m _check_data_column_metadata_consistency(all_columns)\n",
      "\u001b[36mFile \u001b[39m\u001b[32mD:\\04_TRADING_SMALLCAPS\\.venv-smallcap\\Lib\\site-packages\\pyarrow\\pandas-shim.pxi:142\u001b[39m, in \u001b[36mpyarrow.lib._PandasAPIShim.pd.__get__\u001b[39m\u001b[34m()\u001b[39m\n",
      "\u001b[36mFile \u001b[39m\u001b[32mD:\\04_TRADING_SMALLCAPS\\.venv-smallcap\\Lib\\site-packages\\pyarrow\\pandas-shim.pxi:116\u001b[39m, in \u001b[36mpyarrow.lib._PandasAPIShim._check_import\u001b[39m\u001b[34m()\u001b[39m\n",
      "\u001b[36mFile \u001b[39m\u001b[32mD:\\04_TRADING_SMALLCAPS\\.venv-smallcap\\Lib\\site-packages\\pyarrow\\pandas-shim.pxi:55\u001b[39m, in \u001b[36mpyarrow.lib._PandasAPIShim._import_pandas\u001b[39m\u001b[34m()\u001b[39m\n",
      "\u001b[36mFile \u001b[39m\u001b[32mD:\\04_TRADING_SMALLCAPS\\.venv-smallcap\\Lib\\site-packages\\pyarrow\\pandas-shim.pxi:50\u001b[39m, in \u001b[36mpyarrow.lib._PandasAPIShim._import_pandas\u001b[39m\u001b[34m()\u001b[39m\n",
      "\u001b[31mModuleNotFoundError\u001b[39m: No module named 'pandas'"
     ]
    }
   ],
   "source": [
    "# Distribución por tipo de ticker\n",
    "if 'type' in df_tickers.columns:\n",
    "    type_counts = df_tickers.group_by(\"type\").agg(pl.count().alias(\"count\")).sort(\"count\", descending=True)\n",
    "    print(type_counts)\n",
    "    \n",
    "    # Gráfico\n",
    "    fig = px.bar(type_counts.to_pandas(), x=\"type\", y=\"count\", \n",
    "                 title=\"Distribución de Tickers por Tipo\")\n",
    "    fig.show()"
   ]
  },
  {
   "cell_type": "code",
   "execution_count": 56,
   "metadata": {},
   "outputs": [
    {
     "name": "stdout",
     "output_type": "stream",
     "text": [
      "shape: (1, 2)\n",
      "┌────────┬───────┐\n",
      "│ market ┆ count │\n",
      "│ ---    ┆ ---   │\n",
      "│ str    ┆ u32   │\n",
      "╞════════╪═══════╡\n",
      "│ stocks ┆ 22489 │\n",
      "└────────┴───────┘\n"
     ]
    },
    {
     "name": "stderr",
     "output_type": "stream",
     "text": [
      "C:\\Users\\AlexJ\\AppData\\Local\\Temp\\ipykernel_45540\\2022846949.py:3: DeprecationWarning: `pl.count()` is deprecated. Please use `pl.len()` instead.\n",
      "(Deprecated in version 0.20.5)\n",
      "  market_counts = df_tickers.group_by(\"market\").agg(pl.count().alias(\"count\")).sort(\"count\", descending=True)\n"
     ]
    }
   ],
   "source": [
    "# Distribución por market\n",
    "if 'market' in df_tickers.columns:\n",
    "    market_counts = df_tickers.group_by(\"market\").agg(pl.count().alias(\"count\")).sort(\"count\", descending=True)\n",
    "    print(market_counts)"
   ]
  },
  {
   "cell_type": "markdown",
   "metadata": {},
   "source": [
    "## 2. Daily Bars (1d)"
   ]
  },
  {
   "cell_type": "code",
   "execution_count": 57,
   "metadata": {},
   "outputs": [
    {
     "name": "stdout",
     "output_type": "stream",
     "text": [
      "Archivos daily bars: 3\n",
      "Primeros 10: ['AAPL', 'GOOG', 'MSFT']\n"
     ]
    }
   ],
   "source": [
    "# Listar archivos disponibles\n",
    "files_1d = sorted(bars_1d.glob(\"*.parquet\")) if bars_1d.exists() else []\n",
    "print(f\"Archivos daily bars: {len(files_1d)}\")\n",
    "if files_1d:\n",
    "    print(f\"Primeros 10: {[f.stem for f in files_1d[:10]]}\")"
   ]
  },
  {
   "cell_type": "code",
   "execution_count": 58,
   "metadata": {},
   "outputs": [
    {
     "name": "stdout",
     "output_type": "stream",
     "text": [
      "Ticker: AAPL\n",
      "Rows: 22\n",
      "Date range: 2025-09-08 04:00:00+00:00 -> 2025-10-07 04:00:00+00:00\n",
      "\n",
      "Columnas: ['volume', 'vwap', 'open', 'close', 'high', 'low', 'timestamp', 'transactions', 'symbol', 'date']\n",
      "\n",
      "Primeras filas:\n"
     ]
    }
   ],
   "source": [
    "# Cargar un ticker ejemplo (AAPL)\n",
    "ticker = \"AAPL\"\n",
    "file_1d = bars_1d / f\"{ticker}.parquet\"\n",
    "\n",
    "if file_1d.exists():\n",
    "    df_1d = pl.read_parquet(file_1d)\n",
    "    print(f\"Ticker: {ticker}\")\n",
    "    print(f\"Rows: {len(df_1d):,}\")\n",
    "    print(f\"Date range: {df_1d['timestamp'].min()} -> {df_1d['timestamp'].max()}\")\n",
    "    print(f\"\\nColumnas: {df_1d.columns}\")\n",
    "    print(f\"\\nPrimeras filas:\")\n",
    "    df_1d.head(10)\n",
    "else:\n",
    "    print(f\"File not found: {file_1d}\")"
   ]
  },
  {
   "cell_type": "code",
   "execution_count": 59,
   "metadata": {},
   "outputs": [
    {
     "name": "stdout",
     "output_type": "stream",
     "text": [
      "Estadísticas de precios:\n"
     ]
    }
   ],
   "source": [
    "# Estadísticas básicas\n",
    "if file_1d.exists():\n",
    "    print(\"Estadísticas de precios:\")\n",
    "    df_1d.select([\"close\", \"volume\", \"vwap\"]).describe()"
   ]
  },
  {
   "cell_type": "code",
   "execution_count": 60,
   "metadata": {},
   "outputs": [
    {
     "ename": "ModuleNotFoundError",
     "evalue": "No module named 'pandas'",
     "output_type": "error",
     "traceback": [
      "\u001b[31m---------------------------------------------------------------------------\u001b[39m",
      "\u001b[31mModuleNotFoundError\u001b[39m                       Traceback (most recent call last)",
      "\u001b[36mCell\u001b[39m\u001b[36m \u001b[39m\u001b[32mIn[60]\u001b[39m\u001b[32m, line 3\u001b[39m\n\u001b[32m      1\u001b[39m \u001b[38;5;66;03m# Gráfico de precio\u001b[39;00m\n\u001b[32m      2\u001b[39m \u001b[38;5;28;01mif\u001b[39;00m file_1d.exists():\n\u001b[32m----> \u001b[39m\u001b[32m3\u001b[39m     df_plot = \u001b[43mdf_1d\u001b[49m\u001b[43m.\u001b[49m\u001b[43msort\u001b[49m\u001b[43m(\u001b[49m\u001b[33;43m\"\u001b[39;49m\u001b[33;43mtimestamp\u001b[39;49m\u001b[33;43m\"\u001b[39;49m\u001b[43m)\u001b[49m\u001b[43m.\u001b[49m\u001b[43mto_pandas\u001b[49m\u001b[43m(\u001b[49m\u001b[43m)\u001b[49m\n\u001b[32m      5\u001b[39m     \u001b[38;5;66;03m# Candlestick chart\u001b[39;00m\n\u001b[32m      6\u001b[39m     fig = go.Figure(data=[go.Candlestick(\n\u001b[32m      7\u001b[39m         x=df_plot[\u001b[33m'\u001b[39m\u001b[33mtimestamp\u001b[39m\u001b[33m'\u001b[39m],\n\u001b[32m      8\u001b[39m         \u001b[38;5;28mopen\u001b[39m=df_plot[\u001b[33m'\u001b[39m\u001b[33mopen\u001b[39m\u001b[33m'\u001b[39m],\n\u001b[32m   (...)\u001b[39m\u001b[32m     11\u001b[39m         close=df_plot[\u001b[33m'\u001b[39m\u001b[33mclose\u001b[39m\u001b[33m'\u001b[39m]\n\u001b[32m     12\u001b[39m     )])\n",
      "\u001b[36mFile \u001b[39m\u001b[32mD:\\04_TRADING_SMALLCAPS\\.venv-smallcap\\Lib\\site-packages\\polars\\dataframe\\frame.py:2561\u001b[39m, in \u001b[36mDataFrame.to_pandas\u001b[39m\u001b[34m(self, use_pyarrow_extension_array, **kwargs)\u001b[39m\n\u001b[32m   2556\u001b[39m \u001b[38;5;28;01mif\u001b[39;00m Object \u001b[38;5;129;01min\u001b[39;00m \u001b[38;5;28mself\u001b[39m.dtypes:\n\u001b[32m   2557\u001b[39m     \u001b[38;5;28;01mreturn\u001b[39;00m \u001b[38;5;28mself\u001b[39m._to_pandas_with_object_columns(\n\u001b[32m   2558\u001b[39m         use_pyarrow_extension_array=use_pyarrow_extension_array, **kwargs\n\u001b[32m   2559\u001b[39m     )\n\u001b[32m-> \u001b[39m\u001b[32m2561\u001b[39m \u001b[38;5;28;01mreturn\u001b[39;00m \u001b[38;5;28;43mself\u001b[39;49m\u001b[43m.\u001b[49m\u001b[43m_to_pandas_without_object_columns\u001b[49m\u001b[43m(\u001b[49m\n\u001b[32m   2562\u001b[39m \u001b[43m    \u001b[49m\u001b[38;5;28;43mself\u001b[39;49m\u001b[43m,\u001b[49m\u001b[43m \u001b[49m\u001b[43muse_pyarrow_extension_array\u001b[49m\u001b[43m=\u001b[49m\u001b[43muse_pyarrow_extension_array\u001b[49m\u001b[43m,\u001b[49m\u001b[43m \u001b[49m\u001b[43m*\u001b[49m\u001b[43m*\u001b[49m\u001b[43mkwargs\u001b[49m\n\u001b[32m   2563\u001b[39m \u001b[43m\u001b[49m\u001b[43m)\u001b[49m\n",
      "\u001b[36mFile \u001b[39m\u001b[32mD:\\04_TRADING_SMALLCAPS\\.venv-smallcap\\Lib\\site-packages\\polars\\dataframe\\frame.py:2623\u001b[39m, in \u001b[36mDataFrame._to_pandas_without_object_columns\u001b[39m\u001b[34m(self, df, use_pyarrow_extension_array, **kwargs)\u001b[39m\n\u001b[32m   2615\u001b[39m     \u001b[38;5;28;01mreturn\u001b[39;00m tbl.to_pandas(\n\u001b[32m   2616\u001b[39m         self_destruct=\u001b[38;5;28;01mTrue\u001b[39;00m,\n\u001b[32m   2617\u001b[39m         split_blocks=\u001b[38;5;28;01mTrue\u001b[39;00m,\n\u001b[32m   2618\u001b[39m         types_mapper=\u001b[38;5;28;01mlambda\u001b[39;00m pa_dtype: pd.ArrowDtype(pa_dtype),\n\u001b[32m   2619\u001b[39m         **kwargs,\n\u001b[32m   2620\u001b[39m     )\n\u001b[32m   2622\u001b[39m date_as_object = kwargs.pop(\u001b[33m\"\u001b[39m\u001b[33mdate_as_object\u001b[39m\u001b[33m\"\u001b[39m, \u001b[38;5;28;01mFalse\u001b[39;00m)\n\u001b[32m-> \u001b[39m\u001b[32m2623\u001b[39m \u001b[38;5;28;01mreturn\u001b[39;00m \u001b[43mtbl\u001b[49m\u001b[43m.\u001b[49m\u001b[43mto_pandas\u001b[49m\u001b[43m(\u001b[49m\u001b[43mdate_as_object\u001b[49m\u001b[43m=\u001b[49m\u001b[43mdate_as_object\u001b[49m\u001b[43m,\u001b[49m\u001b[43m \u001b[49m\u001b[43m*\u001b[49m\u001b[43m*\u001b[49m\u001b[43mkwargs\u001b[49m\u001b[43m)\u001b[49m\n",
      "\u001b[36mFile \u001b[39m\u001b[32mD:\\04_TRADING_SMALLCAPS\\.venv-smallcap\\Lib\\site-packages\\pyarrow\\array.pxi:1020\u001b[39m, in \u001b[36mpyarrow.lib._PandasConvertible.to_pandas\u001b[39m\u001b[34m()\u001b[39m\n",
      "\u001b[36mFile \u001b[39m\u001b[32mD:\\04_TRADING_SMALLCAPS\\.venv-smallcap\\Lib\\site-packages\\pyarrow\\table.pxi:5177\u001b[39m, in \u001b[36mpyarrow.lib.Table._to_pandas\u001b[39m\u001b[34m()\u001b[39m\n",
      "\u001b[36mFile \u001b[39m\u001b[32mD:\\04_TRADING_SMALLCAPS\\.venv-smallcap\\Lib\\site-packages\\pyarrow\\pandas_compat.py:797\u001b[39m, in \u001b[36mtable_to_dataframe\u001b[39m\u001b[34m(options, table, categories, ignore_metadata, types_mapper)\u001b[39m\n\u001b[32m    794\u001b[39m     ext_columns_dtypes = _get_extension_dtypes(\n\u001b[32m    795\u001b[39m         table, all_columns, types_mapper, options, categories)\n\u001b[32m    796\u001b[39m \u001b[38;5;28;01melse\u001b[39;00m:\n\u001b[32m--> \u001b[39m\u001b[32m797\u001b[39m     index = \u001b[43m_pandas_api\u001b[49m\u001b[43m.\u001b[49m\u001b[43mpd\u001b[49m.RangeIndex(table.num_rows)\n\u001b[32m    798\u001b[39m     ext_columns_dtypes = _get_extension_dtypes(\n\u001b[32m    799\u001b[39m         table, [], types_mapper, options, categories\n\u001b[32m    800\u001b[39m     )\n\u001b[32m    802\u001b[39m _check_data_column_metadata_consistency(all_columns)\n",
      "\u001b[36mFile \u001b[39m\u001b[32mD:\\04_TRADING_SMALLCAPS\\.venv-smallcap\\Lib\\site-packages\\pyarrow\\pandas-shim.pxi:142\u001b[39m, in \u001b[36mpyarrow.lib._PandasAPIShim.pd.__get__\u001b[39m\u001b[34m()\u001b[39m\n",
      "\u001b[36mFile \u001b[39m\u001b[32mD:\\04_TRADING_SMALLCAPS\\.venv-smallcap\\Lib\\site-packages\\pyarrow\\pandas-shim.pxi:116\u001b[39m, in \u001b[36mpyarrow.lib._PandasAPIShim._check_import\u001b[39m\u001b[34m()\u001b[39m\n",
      "\u001b[36mFile \u001b[39m\u001b[32mD:\\04_TRADING_SMALLCAPS\\.venv-smallcap\\Lib\\site-packages\\pyarrow\\pandas-shim.pxi:55\u001b[39m, in \u001b[36mpyarrow.lib._PandasAPIShim._import_pandas\u001b[39m\u001b[34m()\u001b[39m\n",
      "\u001b[36mFile \u001b[39m\u001b[32mD:\\04_TRADING_SMALLCAPS\\.venv-smallcap\\Lib\\site-packages\\pyarrow\\pandas-shim.pxi:50\u001b[39m, in \u001b[36mpyarrow.lib._PandasAPIShim._import_pandas\u001b[39m\u001b[34m()\u001b[39m\n",
      "\u001b[31mModuleNotFoundError\u001b[39m: No module named 'pandas'"
     ]
    }
   ],
   "source": [
    "# Gráfico de precio\n",
    "if file_1d.exists():\n",
    "    df_plot = df_1d.sort(\"timestamp\").to_pandas()\n",
    "    \n",
    "    # Candlestick chart\n",
    "    fig = go.Figure(data=[go.Candlestick(\n",
    "        x=df_plot['timestamp'],\n",
    "        open=df_plot['open'],\n",
    "        high=df_plot['high'],\n",
    "        low=df_plot['low'],\n",
    "        close=df_plot['close']\n",
    "    )])\n",
    "    \n",
    "    fig.update_layout(\n",
    "        title=f\"{ticker} - Daily Bars (1d)\",\n",
    "        yaxis_title=\"Price (USD)\",\n",
    "        xaxis_title=\"Date\",\n",
    "        height=600\n",
    "    )\n",
    "    fig.show()"
   ]
  },
  {
   "cell_type": "code",
   "execution_count": 61,
   "metadata": {},
   "outputs": [
    {
     "ename": "NameError",
     "evalue": "name 'df_plot' is not defined",
     "output_type": "error",
     "traceback": [
      "\u001b[31m---------------------------------------------------------------------------\u001b[39m",
      "\u001b[31mNameError\u001b[39m                                 Traceback (most recent call last)",
      "\u001b[36mCell\u001b[39m\u001b[36m \u001b[39m\u001b[32mIn[61]\u001b[39m\u001b[32m, line 3\u001b[39m\n\u001b[32m      1\u001b[39m \u001b[38;5;66;03m# Gráfico de volumen\u001b[39;00m\n\u001b[32m      2\u001b[39m \u001b[38;5;28;01mif\u001b[39;00m file_1d.exists():\n\u001b[32m----> \u001b[39m\u001b[32m3\u001b[39m     fig = px.bar(\u001b[43mdf_plot\u001b[49m, x=\u001b[33m\"\u001b[39m\u001b[33mtimestamp\u001b[39m\u001b[33m\"\u001b[39m, y=\u001b[33m\"\u001b[39m\u001b[33mvolume\u001b[39m\u001b[33m\"\u001b[39m, \n\u001b[32m      4\u001b[39m                  title=\u001b[33mf\u001b[39m\u001b[33m\"\u001b[39m\u001b[38;5;132;01m{\u001b[39;00mticker\u001b[38;5;132;01m}\u001b[39;00m\u001b[33m - Volume (Daily)\u001b[39m\u001b[33m\"\u001b[39m)\n\u001b[32m      5\u001b[39m     fig.update_layout(height=\u001b[32m400\u001b[39m)\n\u001b[32m      6\u001b[39m     fig.show()\n",
      "\u001b[31mNameError\u001b[39m: name 'df_plot' is not defined"
     ]
    }
   ],
   "source": [
    "# Gráfico de volumen\n",
    "if file_1d.exists():\n",
    "    fig = px.bar(df_plot, x=\"timestamp\", y=\"volume\", \n",
    "                 title=f\"{ticker} - Volume (Daily)\")\n",
    "    fig.update_layout(height=400)\n",
    "    fig.show()"
   ]
  },
  {
   "cell_type": "markdown",
   "metadata": {},
   "source": [
    "## 3. Hourly Bars (1h)"
   ]
  },
  {
   "cell_type": "code",
   "execution_count": 62,
   "metadata": {},
   "outputs": [
    {
     "name": "stdout",
     "output_type": "stream",
     "text": [
      "Archivos hourly bars: 3\n",
      "Primeros 10: ['AAPL', 'GOOG', 'MSFT']\n"
     ]
    }
   ],
   "source": [
    "# Listar archivos disponibles\n",
    "files_1h = sorted(bars_1h.glob(\"*.parquet\")) if bars_1h.exists() else []\n",
    "print(f\"Archivos hourly bars: {len(files_1h)}\")\n",
    "if files_1h:\n",
    "    print(f\"Primeros 10: {[f.stem for f in files_1h[:10]]}\")"
   ]
  },
  {
   "cell_type": "code",
   "execution_count": 63,
   "metadata": {},
   "outputs": [
    {
     "name": "stdout",
     "output_type": "stream",
     "text": [
      "Ticker: AAPL\n",
      "Rows: 356\n",
      "Date range: 2025-09-08 08:00:00+00:00 -> 2025-10-08 11:00:00+00:00\n",
      "\n",
      "Columnas: ['volume', 'vwap', 'open', 'close', 'high', 'low', 'timestamp', 'transactions', 'symbol', 'date']\n",
      "\n",
      "Primeras filas:\n"
     ]
    }
   ],
   "source": [
    "# Cargar mismo ticker (AAPL)\n",
    "file_1h = bars_1h / f\"{ticker}.parquet\"\n",
    "\n",
    "if file_1h.exists():\n",
    "    df_1h = pl.read_parquet(file_1h)\n",
    "    print(f\"Ticker: {ticker}\")\n",
    "    print(f\"Rows: {len(df_1h):,}\")\n",
    "    print(f\"Date range: {df_1h['timestamp'].min()} -> {df_1h['timestamp'].max()}\")\n",
    "    print(f\"\\nColumnas: {df_1h.columns}\")\n",
    "    print(f\"\\nPrimeras filas:\")\n",
    "    df_1h.head(10)\n",
    "else:\n",
    "    print(f\"File not found: {file_1h}\")"
   ]
  },
  {
   "cell_type": "code",
   "execution_count": 64,
   "metadata": {},
   "outputs": [
    {
     "name": "stderr",
     "output_type": "stream",
     "text": [
      "C:\\Users\\AlexJ\\AppData\\Local\\Temp\\ipykernel_45540\\2988734173.py:4: DeprecationWarning: datetime.datetime.utcnow() is deprecated and scheduled for removal in a future version. Use timezone-aware objects to represent datetimes in UTC: datetime.datetime.now(datetime.UTC).\n",
      "  cutoff = datetime.utcnow() - timedelta(days=30)\n"
     ]
    },
    {
     "ename": "SchemaError",
     "evalue": "could not evaluate '>=' comparison between series 'timestamp' of dtype: datetime[ms, UTC] and series 'literal' of dtype: datetime[μs]",
     "output_type": "error",
     "traceback": [
      "\u001b[31m---------------------------------------------------------------------------\u001b[39m",
      "\u001b[31mSchemaError\u001b[39m                               Traceback (most recent call last)",
      "\u001b[36mCell\u001b[39m\u001b[36m \u001b[39m\u001b[32mIn[64]\u001b[39m\u001b[32m, line 5\u001b[39m\n\u001b[32m      2\u001b[39m \u001b[38;5;28;01mif\u001b[39;00m file_1h.exists():\n\u001b[32m      3\u001b[39m     \u001b[38;5;66;03m# Filtrar últimos 30 días\u001b[39;00m\n\u001b[32m      4\u001b[39m     cutoff = datetime.utcnow() - timedelta(days=\u001b[32m30\u001b[39m)\n\u001b[32m----> \u001b[39m\u001b[32m5\u001b[39m     df_recent = \u001b[43mdf_1h\u001b[49m\u001b[43m.\u001b[49m\u001b[43mfilter\u001b[49m\u001b[43m(\u001b[49m\u001b[43mpl\u001b[49m\u001b[43m.\u001b[49m\u001b[43mcol\u001b[49m\u001b[43m(\u001b[49m\u001b[33;43m\"\u001b[39;49m\u001b[33;43mtimestamp\u001b[39;49m\u001b[33;43m\"\u001b[39;49m\u001b[43m)\u001b[49m\u001b[43m \u001b[49m\u001b[43m>\u001b[49m\u001b[43m=\u001b[49m\u001b[43m \u001b[49m\u001b[43mcutoff\u001b[49m\u001b[43m)\u001b[49m.sort(\u001b[33m\"\u001b[39m\u001b[33mtimestamp\u001b[39m\u001b[33m\"\u001b[39m)\n\u001b[32m      6\u001b[39m     df_plot_1h = df_recent.to_pandas()\n\u001b[32m      8\u001b[39m     fig = go.Figure(data=[go.Candlestick(\n\u001b[32m      9\u001b[39m         x=df_plot_1h[\u001b[33m'\u001b[39m\u001b[33mtimestamp\u001b[39m\u001b[33m'\u001b[39m],\n\u001b[32m     10\u001b[39m         \u001b[38;5;28mopen\u001b[39m=df_plot_1h[\u001b[33m'\u001b[39m\u001b[33mopen\u001b[39m\u001b[33m'\u001b[39m],\n\u001b[32m   (...)\u001b[39m\u001b[32m     13\u001b[39m         close=df_plot_1h[\u001b[33m'\u001b[39m\u001b[33mclose\u001b[39m\u001b[33m'\u001b[39m]\n\u001b[32m     14\u001b[39m     )])\n",
      "\u001b[36mFile \u001b[39m\u001b[32mD:\\04_TRADING_SMALLCAPS\\.venv-smallcap\\Lib\\site-packages\\polars\\dataframe\\frame.py:5272\u001b[39m, in \u001b[36mDataFrame.filter\u001b[39m\u001b[34m(self, *predicates, **constraints)\u001b[39m\n\u001b[32m   5112\u001b[39m \u001b[38;5;250m\u001b[39m\u001b[33;03m\"\"\"\u001b[39;00m\n\u001b[32m   5113\u001b[39m \u001b[33;03mFilter rows, retaining those that match the given predicate expression(s).\u001b[39;00m\n\u001b[32m   5114\u001b[39m \n\u001b[32m   (...)\u001b[39m\u001b[32m   5265\u001b[39m \u001b[33;03m└──────┴──────┴─────┘\u001b[39;00m\n\u001b[32m   5266\u001b[39m \u001b[33;03m\"\"\"\u001b[39;00m\n\u001b[32m   5267\u001b[39m \u001b[38;5;28;01mfrom\u001b[39;00m\u001b[38;5;250m \u001b[39m\u001b[34;01mpolars\u001b[39;00m\u001b[34;01m.\u001b[39;00m\u001b[34;01mlazyframe\u001b[39;00m\u001b[34;01m.\u001b[39;00m\u001b[34;01mopt_flags\u001b[39;00m\u001b[38;5;250m \u001b[39m\u001b[38;5;28;01mimport\u001b[39;00m QueryOptFlags\n\u001b[32m   5269\u001b[39m \u001b[38;5;28;01mreturn\u001b[39;00m (\n\u001b[32m   5270\u001b[39m     \u001b[38;5;28;43mself\u001b[39;49m\u001b[43m.\u001b[49m\u001b[43mlazy\u001b[49m\u001b[43m(\u001b[49m\u001b[43m)\u001b[49m\n\u001b[32m   5271\u001b[39m \u001b[43m    \u001b[49m\u001b[43m.\u001b[49m\u001b[43mfilter\u001b[49m\u001b[43m(\u001b[49m\u001b[43m*\u001b[49m\u001b[43mpredicates\u001b[49m\u001b[43m,\u001b[49m\u001b[43m \u001b[49m\u001b[43m*\u001b[49m\u001b[43m*\u001b[49m\u001b[43mconstraints\u001b[49m\u001b[43m)\u001b[49m\n\u001b[32m-> \u001b[39m\u001b[32m5272\u001b[39m \u001b[43m    \u001b[49m\u001b[43m.\u001b[49m\u001b[43mcollect\u001b[49m\u001b[43m(\u001b[49m\u001b[43moptimizations\u001b[49m\u001b[43m=\u001b[49m\u001b[43mQueryOptFlags\u001b[49m\u001b[43m.\u001b[49m\u001b[43m_eager\u001b[49m\u001b[43m(\u001b[49m\u001b[43m)\u001b[49m\u001b[43m)\u001b[49m\n\u001b[32m   5273\u001b[39m )\n",
      "\u001b[36mFile \u001b[39m\u001b[32mD:\\04_TRADING_SMALLCAPS\\.venv-smallcap\\Lib\\site-packages\\polars\\_utils\\deprecation.py:97\u001b[39m, in \u001b[36mdeprecate_streaming_parameter.<locals>.decorate.<locals>.wrapper\u001b[39m\u001b[34m(*args, **kwargs)\u001b[39m\n\u001b[32m     93\u001b[39m         kwargs[\u001b[33m\"\u001b[39m\u001b[33mengine\u001b[39m\u001b[33m\"\u001b[39m] = \u001b[33m\"\u001b[39m\u001b[33min-memory\u001b[39m\u001b[33m\"\u001b[39m\n\u001b[32m     95\u001b[39m     \u001b[38;5;28;01mdel\u001b[39;00m kwargs[\u001b[33m\"\u001b[39m\u001b[33mstreaming\u001b[39m\u001b[33m\"\u001b[39m]\n\u001b[32m---> \u001b[39m\u001b[32m97\u001b[39m \u001b[38;5;28;01mreturn\u001b[39;00m \u001b[43mfunction\u001b[49m\u001b[43m(\u001b[49m\u001b[43m*\u001b[49m\u001b[43margs\u001b[49m\u001b[43m,\u001b[49m\u001b[43m \u001b[49m\u001b[43m*\u001b[49m\u001b[43m*\u001b[49m\u001b[43mkwargs\u001b[49m\u001b[43m)\u001b[49m\n",
      "\u001b[36mFile \u001b[39m\u001b[32mD:\\04_TRADING_SMALLCAPS\\.venv-smallcap\\Lib\\site-packages\\polars\\lazyframe\\opt_flags.py:328\u001b[39m, in \u001b[36mforward_old_opt_flags.<locals>.decorate.<locals>.wrapper\u001b[39m\u001b[34m(*args, **kwargs)\u001b[39m\n\u001b[32m    325\u001b[39m         optflags = cb(optflags, kwargs.pop(key))  \u001b[38;5;66;03m# type: ignore[no-untyped-call,unused-ignore]\u001b[39;00m\n\u001b[32m    327\u001b[39m kwargs[\u001b[33m\"\u001b[39m\u001b[33moptimizations\u001b[39m\u001b[33m\"\u001b[39m] = optflags\n\u001b[32m--> \u001b[39m\u001b[32m328\u001b[39m \u001b[38;5;28;01mreturn\u001b[39;00m \u001b[43mfunction\u001b[49m\u001b[43m(\u001b[49m\u001b[43m*\u001b[49m\u001b[43margs\u001b[49m\u001b[43m,\u001b[49m\u001b[43m \u001b[49m\u001b[43m*\u001b[49m\u001b[43m*\u001b[49m\u001b[43mkwargs\u001b[49m\u001b[43m)\u001b[49m\n",
      "\u001b[36mFile \u001b[39m\u001b[32mD:\\04_TRADING_SMALLCAPS\\.venv-smallcap\\Lib\\site-packages\\polars\\lazyframe\\frame.py:2415\u001b[39m, in \u001b[36mLazyFrame.collect\u001b[39m\u001b[34m(self, type_coercion, predicate_pushdown, projection_pushdown, simplify_expression, slice_pushdown, comm_subplan_elim, comm_subexpr_elim, cluster_with_columns, collapse_joins, no_optimization, engine, background, optimizations, **_kwargs)\u001b[39m\n\u001b[32m   2413\u001b[39m \u001b[38;5;66;03m# Only for testing purposes\u001b[39;00m\n\u001b[32m   2414\u001b[39m callback = _kwargs.get(\u001b[33m\"\u001b[39m\u001b[33mpost_opt_callback\u001b[39m\u001b[33m\"\u001b[39m, callback)\n\u001b[32m-> \u001b[39m\u001b[32m2415\u001b[39m \u001b[38;5;28;01mreturn\u001b[39;00m wrap_df(\u001b[43mldf\u001b[49m\u001b[43m.\u001b[49m\u001b[43mcollect\u001b[49m\u001b[43m(\u001b[49m\u001b[43mengine\u001b[49m\u001b[43m,\u001b[49m\u001b[43m \u001b[49m\u001b[43mcallback\u001b[49m\u001b[43m)\u001b[49m)\n",
      "\u001b[31mSchemaError\u001b[39m: could not evaluate '>=' comparison between series 'timestamp' of dtype: datetime[ms, UTC] and series 'literal' of dtype: datetime[μs]"
     ]
    }
   ],
   "source": [
    "# Gráfico de precios (últimos 30 días)\n",
    "if file_1h.exists():\n",
    "    # Filtrar últimos 30 días\n",
    "    cutoff = datetime.utcnow() - timedelta(days=30)\n",
    "    df_recent = df_1h.filter(pl.col(\"timestamp\") >= cutoff).sort(\"timestamp\")\n",
    "    df_plot_1h = df_recent.to_pandas()\n",
    "    \n",
    "    fig = go.Figure(data=[go.Candlestick(\n",
    "        x=df_plot_1h['timestamp'],\n",
    "        open=df_plot_1h['open'],\n",
    "        high=df_plot_1h['high'],\n",
    "        low=df_plot_1h['low'],\n",
    "        close=df_plot_1h['close']\n",
    "    )])\n",
    "    \n",
    "    fig.update_layout(\n",
    "        title=f\"{ticker} - Hourly Bars (1h) - Last 30 Days\",\n",
    "        yaxis_title=\"Price (USD)\",\n",
    "        xaxis_title=\"DateTime\",\n",
    "        height=600\n",
    "    )\n",
    "    fig.show()"
   ]
  },
  {
   "cell_type": "markdown",
   "metadata": {},
   "source": [
    "## 4. Comparación: Daily vs Hourly"
   ]
  },
  {
   "cell_type": "code",
   "execution_count": 65,
   "metadata": {},
   "outputs": [
    {
     "name": "stdout",
     "output_type": "stream",
     "text": [
      "Daily bars (1d): 22 rows\n",
      "Hourly bars (1h): 356 rows\n",
      "\n",
      "Ratio: 16.2x más granular\n",
      "\n",
      "Tamaño 1d: 3.9 KB\n",
      "Tamaño 1h: 11.8 KB\n",
      "Ratio: 3.0x\n"
     ]
    }
   ],
   "source": [
    "# Comparar cantidad de datos\n",
    "if file_1d.exists() and file_1h.exists():\n",
    "    print(f\"Daily bars (1d): {len(df_1d):,} rows\")\n",
    "    print(f\"Hourly bars (1h): {len(df_1h):,} rows\")\n",
    "    print(f\"\\nRatio: {len(df_1h) / len(df_1d):.1f}x más granular\")\n",
    "    \n",
    "    # Tamaño de archivos\n",
    "    size_1d = file_1d.stat().st_size / 1024  # KB\n",
    "    size_1h = file_1h.stat().st_size / 1024  # KB\n",
    "    print(f\"\\nTamaño 1d: {size_1d:.1f} KB\")\n",
    "    print(f\"Tamaño 1h: {size_1h:.1f} KB\")\n",
    "    print(f\"Ratio: {size_1h / size_1d:.1f}x\")"
   ]
  },
  {
   "cell_type": "markdown",
   "metadata": {},
   "source": [
    "## 5. Corporate Actions - Splits"
   ]
  },
  {
   "cell_type": "code",
   "execution_count": 66,
   "metadata": {},
   "outputs": [
    {
     "name": "stdout",
     "output_type": "stream",
     "text": [
      "No splits files found\n"
     ]
    }
   ],
   "source": [
    "# Cargar splits\n",
    "split_files = sorted(splits_dir.glob(\"*.parquet\")) if splits_dir.exists() else []\n",
    "if split_files:\n",
    "    df_splits = pl.read_parquet(split_files[-1])\n",
    "    print(f\"Total splits: {len(df_splits):,}\")\n",
    "    print(f\"\\nColumnas: {df_splits.columns}\")\n",
    "    print(f\"\\nÚltimos 10 splits:\")\n",
    "    df_splits.sort(\"execution_date\", descending=True).head(10)\n",
    "else:\n",
    "    print(\"No splits files found\")"
   ]
  },
  {
   "cell_type": "markdown",
   "metadata": {},
   "source": [
    "## 6. Corporate Actions - Dividends"
   ]
  },
  {
   "cell_type": "code",
   "execution_count": 67,
   "metadata": {},
   "outputs": [
    {
     "name": "stdout",
     "output_type": "stream",
     "text": [
      "No dividend files found\n"
     ]
    }
   ],
   "source": [
    "# Cargar dividends\n",
    "dividend_files = sorted(dividends_dir.glob(\"*.parquet\")) if dividends_dir.exists() else []\n",
    "if dividend_files:\n",
    "    df_divs = pl.read_parquet(dividend_files[-1])\n",
    "    print(f\"Total dividends: {len(df_divs):,}\")\n",
    "    print(f\"\\nColumnas: {df_divs.columns}\")\n",
    "    print(f\"\\nÚltimos 10 dividends:\")\n",
    "    df_divs.sort(\"ex_dividend_date\", descending=True).head(10)\n",
    "else:\n",
    "    print(\"No dividend files found\")"
   ]
  },
  {
   "cell_type": "code",
   "execution_count": 68,
   "metadata": {},
   "outputs": [],
   "source": [
    "# Dividends por ticker (top 20)\n",
    "if dividend_files:\n",
    "    top_div = df_divs.group_by(\"ticker\").agg([\n",
    "        pl.count().alias(\"num_dividends\"),\n",
    "        pl.col(\"cash_amount\").sum().alias(\"total_amount\")\n",
    "    ]).sort(\"num_dividends\", descending=True).head(20)\n",
    "    \n",
    "    print(\"Top 20 tickers por número de dividendos:\")\n",
    "    top_div"
   ]
  },
  {
   "cell_type": "markdown",
   "metadata": {},
   "source": [
    "## 7. Exploración Libre"
   ]
  },
  {
   "cell_type": "code",
   "execution_count": 69,
   "metadata": {},
   "outputs": [],
   "source": [
    "# Espacio para exploración adicional\n"
   ]
  },
  {
   "cell_type": "code",
   "execution_count": null,
   "metadata": {},
   "outputs": [],
   "source": []
  },
  {
   "cell_type": "code",
   "execution_count": null,
   "metadata": {},
   "outputs": [],
   "source": []
  }
 ],
 "metadata": {
  "kernelspec": {
   "display_name": "Python (.venv-smallcap)",
   "language": "python",
   "name": "smallcap-env"
  },
  "language_info": {
   "codemirror_mode": {
    "name": "ipython",
    "version": 3
   },
   "file_extension": ".py",
   "mimetype": "text/x-python",
   "name": "python",
   "nbconvert_exporter": "python",
   "pygments_lexer": "ipython3",
   "version": "3.13.7"
  },
  "vscode": {
   "interpreter": {
    "hash": "smallcap-venv",
    "path": "D:\\04_TRADING_SMALLCAPS\\.venv-smallcap\\Scripts\\python.exe"
   }
  }
 },
 "nbformat": 4,
 "nbformat_minor": 4
}
